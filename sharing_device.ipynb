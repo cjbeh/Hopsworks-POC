{
 "cells": [
  {
   "cell_type": "code",
   "execution_count": 1,
   "id": "1e74b913",
   "metadata": {},
   "outputs": [
    {
     "name": "stdout",
     "output_type": "stream",
     "text": [
      "Starting Spark application\n"
     ]
    },
    {
     "data": {
      "text/html": [
       "<table>\n",
       "<tr><th>ID</th><th>Application ID</th><th>Kind</th><th>State</th><th>Spark UI</th><th>Driver log</th></tr><tr><td>3</td><td>application_1689280007503_0010</td><td>pyspark</td><td>idle</td><td><a target=\"_blank\" href=\"/hopsworks-api/yarnui/https://ip-172-31-1-97.ec2.internal:8089/proxy/application_1689280007503_0010/\">Link</a></td><td><a target=\"_blank\" href=\"/hopsworks-api/yarnui/https://ip-172-31-1-97.ec2.internal:8044/node/containerlogs/container_1689280007503_0010_01_000001/MoneyLion__meb10000\">Link</a></td></tr></table>"
      ],
      "text/plain": [
       "<IPython.core.display.HTML object>"
      ]
     },
     "metadata": {},
     "output_type": "display_data"
    },
    {
     "name": "stdout",
     "output_type": "stream",
     "text": [
      "SparkSession available as 'spark'.\n",
      "Connected. Call `.close()` to terminate connection gracefully.\n",
      "\n",
      "Logged in to project, explore it here https://35.171.129.215/p/119\n",
      "Connected. Call `.close()` to terminate connection gracefully."
     ]
    }
   ],
   "source": [
    "import hopsworks\n",
    "\n",
    "project = hopsworks.login()\n",
    "\n",
    "fs = project.get_feature_store()"
   ]
  },
  {
   "cell_type": "code",
   "execution_count": 2,
   "id": "edb1237e",
   "metadata": {},
   "outputs": [],
   "source": [
    "connector = fs.get_storage_connector(\"moneylion_kafka\")"
   ]
  },
  {
   "cell_type": "code",
   "execution_count": 3,
   "id": "5362bde9",
   "metadata": {},
   "outputs": [],
   "source": [
    "from pyspark.sql.functions import from_json, window, col, sum, udf, when, collect_set, approx_count_distinct\n",
    "from pyspark.sql.types import StructField, StructType, StringType, DoubleType, TimestampType, LongType, IntegerType, BooleanType"
   ]
  },
  {
   "cell_type": "code",
   "execution_count": 4,
   "id": "470be461",
   "metadata": {},
   "outputs": [],
   "source": [
    "# Read data stream from Kafka\n",
    "df = connector.read_stream(topic='user-transaction-device')\n",
    "\n",
    "parse_schema = StructType([StructField('user_id', StringType(), True),\n",
    "                          StructField('device_id', StringType(), True),\n",
    "                          StructField('created_at', StringType(), True)])\n",
    "\n",
    "# Deserialise data from and create streaming query\n",
    "df = df.selectExpr(\"CAST(value AS STRING)\")\\\n",
    "                   .select(from_json(\"value\", parse_schema).alias(\"value\"))\\\n",
    "                   .select(\"value.user_id\", \"value.device_id\", \"value.created_at\")\\\n",
    "                   .selectExpr(\"CAST(user_id as string)\", \"CAST(device_id as string)\", \"CAST(created_at as timestamp)\")\n"
   ]
  },
  {
   "cell_type": "code",
   "execution_count": 5,
   "id": "cab0068f",
   "metadata": {},
   "outputs": [
    {
     "name": "stdout",
     "output_type": "stream",
     "text": [
      "root\n",
      " |-- user_id: string (nullable = true)\n",
      " |-- user_devices: array (nullable = false)\n",
      " |    |-- element: string (containsNull = false)\n",
      " |-- window: struct (nullable = true)\n",
      " |    |-- start: timestamp (nullable = true)\n",
      " |    |-- end: timestamp (nullable = true)\n",
      " |-- created_at: timestamp (nullable = true)"
     ]
    }
   ],
   "source": [
    "user_df = df.groupBy(\"user_id\", window(\"created_at\", \"3 days\", \"1 days\"))\\\n",
    "                   .agg(collect_set(\"device_id\").alias(\"user_devices\"))\\\n",
    "                   .select(\"user_id\", \"user_devices\", \"window\", \"window.end\")\\\n",
    "                   .withColumnRenamed(\"end\", \"created_at\")\n",
    "\n",
    "user_df.printSchema()"
   ]
  },
  {
   "cell_type": "code",
   "execution_count": 6,
   "id": "fd6427a5",
   "metadata": {},
   "outputs": [
    {
     "name": "stdout",
     "output_type": "stream",
     "text": [
      "Feature Group created successfully, explore it at \n",
      "https://35.171.129.215/p/119/fs/67/fg/21\n",
      "<pyspark.sql.streaming.StreamingQuery object at 0x7fe62cd27be0>\n",
      "StatisticsWarning: Stream ingestion for feature group `user_device_history`, with version `2` will not compute statistics."
     ]
    }
   ],
   "source": [
    "user_device_history = fs.get_or_create_feature_group(\n",
    "    name=\"user_device_history\",\n",
    "    version=2,\n",
    "    description=\"History of distinct devices used by a user in past 3 days\",\n",
    "    primary_key=['user_id'],\n",
    "    event_time='created_at',\n",
    "    online_enabled=True,\n",
    "    stream=True\n",
    ")\n",
    "\n",
    "user_device_history.insert_stream(user_df, output_mode=\"update\")"
   ]
  },
  {
   "cell_type": "code",
   "execution_count": 7,
   "id": "f98568ec",
   "metadata": {},
   "outputs": [
    {
     "name": "stdout",
     "output_type": "stream",
     "text": [
      "root\n",
      " |-- device_id: string (nullable = true)\n",
      " |-- device_users: long (nullable = false)\n",
      " |-- window: struct (nullable = true)\n",
      " |    |-- start: timestamp (nullable = true)\n",
      " |    |-- end: timestamp (nullable = true)\n",
      " |-- created_at: timestamp (nullable = true)"
     ]
    }
   ],
   "source": [
    "device_df = df.groupBy(\"device_id\", window(\"created_at\", \"3 days\", \"1 days\"))\\\n",
    "                   .agg(approx_count_distinct(\"user_id\").alias(\"device_users\"))\\\n",
    "                   .select(\"device_id\", \"device_users\", \"window\", \"window.end\")\\\n",
    "                   .withColumnRenamed(\"end\", \"created_at\")\n",
    "\n",
    "device_df.printSchema()"
   ]
  },
  {
   "cell_type": "code",
   "execution_count": 8,
   "id": "6b305d18",
   "metadata": {},
   "outputs": [
    {
     "name": "stdout",
     "output_type": "stream",
     "text": [
      "Feature Group created successfully, explore it at \n",
      "https://35.171.129.215/p/119/fs/67/fg/22\n",
      "<pyspark.sql.streaming.StreamingQuery object at 0x7fe62cd3afa0>\n",
      "StatisticsWarning: Stream ingestion for feature group `device_user_history`, with version `2` will not compute statistics."
     ]
    }
   ],
   "source": [
    "device_user_history = fs.get_or_create_feature_group(\n",
    "    name=\"device_user_history\",\n",
    "    version=2,\n",
    "    description=\"History of distinct users who used a device in past 3 days\",\n",
    "    primary_key=['device_id'],\n",
    "    event_time='created_at',\n",
    "    online_enabled=True,\n",
    "    stream=True\n",
    ")\n",
    "\n",
    "device_user_history.insert_stream(device_df, output_mode=\"update\")"
   ]
  },
  {
   "cell_type": "code",
   "execution_count": 9,
   "id": "382c35a7",
   "metadata": {},
   "outputs": [],
   "source": [
    "# spark.streams.get(spark.streams.active[0].id).stop()"
   ]
  },
  {
   "cell_type": "code",
   "execution_count": 10,
   "id": "efd3f774",
   "metadata": {},
   "outputs": [],
   "source": [
    "# # to be used in transformation function\n",
    "# import hopsworks\n",
    "\n",
    "# project = hopsworks.login()\n",
    "# fs = project.get_feature_store()\n",
    "\n",
    "# def max_num_users_share_device_id(value):\n",
    "#     device_fv = fs.get_feature_view(\n",
    "#         name='device_fv',\n",
    "#         version=1\n",
    "#     )\n",
    "\n",
    "#     entries = [{\"device_id\": device_id} for device_id in value]\n",
    "\n",
    "#     data = device_fv.get_feature_vectors(\n",
    "#         entry = entries\n",
    "#     )\n",
    "\n",
    "#     return max(list(zip(*data))[1])"
   ]
  }
 ],
 "metadata": {
  "kernelspec": {
   "display_name": "PySpark",
   "language": "python",
   "name": "pysparkkernel"
  },
  "language_info": {
   "codemirror_mode": {
    "name": "python",
    "version": 3
   },
   "mimetype": "text/x-python",
   "name": "pyspark",
   "pygments_lexer": "python3"
  }
 },
 "nbformat": 4,
 "nbformat_minor": 5
}