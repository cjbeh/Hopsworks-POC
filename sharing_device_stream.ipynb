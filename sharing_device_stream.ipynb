{
 "cells": [
  {
   "cell_type": "code",
   "execution_count": null,
   "metadata": {},
   "outputs": [],
   "source": [
    "import hopsworks\n",
    "\n",
    "project = hopsworks.login()\n",
    "\n",
    "fs = project.get_feature_store()"
   ]
  },
  {
   "cell_type": "code",
   "execution_count": null,
   "metadata": {},
   "outputs": [],
   "source": [
    "connector = fs.get_storage_connector(\"moneylion_kafka\")"
   ]
  },
  {
   "cell_type": "code",
   "execution_count": null,
   "metadata": {},
   "outputs": [],
   "source": [
    "from pyspark.sql.functions import from_json, window, col, sum, udf, when, collect_set, approx_count_distinct, concat_ws\n",
    "from pyspark.sql.types import StructField, StructType, StringType, DoubleType, TimestampType, LongType, IntegerType, BooleanType"
   ]
  },
  {
   "cell_type": "code",
   "execution_count": null,
   "metadata": {},
   "outputs": [],
   "source": [
    "data = [(None, \"{\\\"user_id\\\": \\\"user-1\\\", \\\"device_id\\\": \\\"device-1\\\", \\\"created_at\\\": \\\"2023-07-02 15:40:32\\\"}\")]\n",
    "\n",
    "testdf = spark.createDataFrame(data=data,schema=StructType([StructField('key', StringType(), True),\n",
    "                          StructField('value', StringType(), True)]))\n",
    "\n",
    "testdf.selectExpr(\"CAST(value AS STRING)\")\\\n",
    "                   .select(from_json(\"value\", parse_schema).alias(\"value\"))\\\n",
    "                   .select(\"value.user_id\", \"value.device_id\", \"value.created_at\")\\\n",
    "                   .withColumn(\"unique_id\", concat_ws(\"_\", col(\"user_id\"), col(\"created_at\")))\\\n",
    "                   .selectExpr(\"CAST(unique_id as string)\", \"CAST(user_id as string)\", \"CAST(device_id as string)\", \"CAST(created_at as timestamp)\").show(truncate=False)"
   ]
  },
  {
   "cell_type": "code",
   "execution_count": null,
   "metadata": {},
   "outputs": [],
   "source": [
    "# Read data stream from Kafka\n",
    "df = connector.read_stream(topic='user-transaction-device')\n",
    "\n",
    "parse_schema = StructType([StructField('user_id', StringType(), True),\n",
    "                          StructField('device_id', StringType(), True),\n",
    "                          StructField('created_at', StringType(), True)])\n",
    "\n",
    "# Deserialise data from and create streaming query\n",
    "df = df.selectExpr(\"CAST(value AS STRING)\")\\\n",
    "                   .select(from_json(\"value\", parse_schema).alias(\"value\"))\\\n",
    "                   .select(\"value.user_id\", \"value.device_id\", \"value.created_at\")\\\n",
    "                   .withColumn(\"unique_id\", concat_ws(\"_\", col(\"user_id\"), col(\"created_at\")))\\\n",
    "                   .selectExpr(\"CAST(unique_id as string)\", \"CAST(user_id as string)\", \"CAST(device_id as string)\", \"CAST(created_at as timestamp)\")\n",
    "\n",
    "df.printSchema()"
   ]
  },
  {
   "cell_type": "code",
   "execution_count": null,
   "metadata": {},
   "outputs": [],
   "source": [
    "user_transaction = fs.get_or_create_feature_group(\n",
    "    name=\"user_transaction_raw\",\n",
    "    version=1,\n",
    "    description=\"Raw user transaction\",\n",
    "    primary_key=['unique_id'],\n",
    "    event_time='created_at',\n",
    "    online_enabled=True,\n",
    "    stream=True\n",
    ")\n",
    "\n",
    "user_transaction.insert_stream(df, output_mode=\"update\")"
   ]
  }
 ],
 "metadata": {
  "kernelspec": {
   "display_name": "PySpark",
   "language": "python",
   "name": "pysparkkernel"
  },
  "language_info": {
   "codemirror_mode": {
    "name": "python",
    "version": 3
   },
   "mimetype": "text/x-python",
   "name": "pyspark",
   "pygments_lexer": "python3"
  }
 },
 "nbformat": 4,
 "nbformat_minor": 4
}