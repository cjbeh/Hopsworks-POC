{
 "cells": [
  {
   "cell_type": "code",
   "execution_count": 1,
   "id": "8b86c292",
   "metadata": {},
   "outputs": [
    {
     "name": "stdout",
     "output_type": "stream",
     "text": [
      "Starting Spark application\n"
     ]
    },
    {
     "data": {
      "text/html": [
       "<table>\n",
       "<tr><th>ID</th><th>Application ID</th><th>Kind</th><th>State</th><th>Spark UI</th><th>Driver log</th></tr><tr><td>2</td><td>application_1689280007503_0007</td><td>pyspark</td><td>idle</td><td><a target=\"_blank\" href=\"/hopsworks-api/yarnui/https://ip-172-31-1-97.ec2.internal:8089/proxy/application_1689280007503_0007/\">Link</a></td><td><a target=\"_blank\" href=\"/hopsworks-api/yarnui/https://ip-172-31-1-97.ec2.internal:8044/node/containerlogs/container_1689280007503_0007_01_000001/MoneyLion__meb10000\">Link</a></td></tr></table>"
      ],
      "text/plain": [
       "<IPython.core.display.HTML object>"
      ]
     },
     "metadata": {},
     "output_type": "display_data"
    },
    {
     "name": "stdout",
     "output_type": "stream",
     "text": [
      "SparkSession available as 'spark'.\n",
      "Connected. Call `.close()` to terminate connection gracefully.\n",
      "\n",
      "Logged in to project, explore it here https://35.171.129.215/p/119\n",
      "Connected. Call `.close()` to terminate connection gracefully."
     ]
    }
   ],
   "source": [
    "import hopsworks\n",
    "\n",
    "project = hopsworks.login()\n",
    "\n",
    "fs = project.get_feature_store()"
   ]
  },
  {
   "cell_type": "code",
   "execution_count": 2,
   "id": "a1ffb63f",
   "metadata": {},
   "outputs": [],
   "source": [
    "connector = fs.get_storage_connector(\"moneylion_kafka\")"
   ]
  },
  {
   "cell_type": "code",
   "execution_count": 3,
   "id": "2b936efc",
   "metadata": {},
   "outputs": [],
   "source": [
    "from pyspark.sql.functions import from_json, window, col, sum, udf, when\n",
    "from pyspark.sql.types import StructField, StructType, StringType, DoubleType, TimestampType, LongType, IntegerType, BooleanType"
   ]
  },
  {
   "cell_type": "code",
   "execution_count": 4,
   "id": "9fadd6c0",
   "metadata": {},
   "outputs": [
    {
     "name": "stdout",
     "output_type": "stream",
     "text": [
      "'male'"
     ]
    }
   ],
   "source": [
    "import requests\n",
    "api_url = \"https://randomuser.me/api/\"\n",
    "response = requests.get(api_url)\n",
    "response.json()['results'][0]['gender']"
   ]
  },
  {
   "cell_type": "code",
   "execution_count": 5,
   "id": "ae834140",
   "metadata": {},
   "outputs": [
    {
     "name": "stdout",
     "output_type": "stream",
     "text": [
      "root\n",
      " |-- user_id: string (nullable = true)\n",
      " |-- longitude_sum: double (nullable = true)\n",
      " |-- created_at: timestamp (nullable = true)"
     ]
    }
   ],
   "source": [
    "# Read data stream from Kafka\n",
    "df = connector.read_stream(topic='user-transaction-api')\n",
    "\n",
    "full_schema = StructType([StructField('user_id', StringType(), True),\n",
    "                          StructField('created_at', StringType(), True)])\n",
    "\n",
    "@udf(returnType=DoubleType())\n",
    "def get_longitude(user_id):\n",
    "    api_url = \"https://randomuser.me/api/\"\n",
    "    response = requests.get(api_url)\n",
    "    return float(response.json()['results'][0]['location']['coordinates']['longitude'])\n",
    "\n",
    "# Deserialise data from and create streaming query\n",
    "df = df.selectExpr(\"CAST(value AS STRING)\")\\\n",
    "                   .select(from_json(\"value\", full_schema).alias(\"value\"))\\\n",
    "                   .select(\"value.user_id\", \"value.created_at\")\\\n",
    "                   .selectExpr(\"CAST(user_id as string)\", \"CAST(created_at as timestamp)\")\\\n",
    "                   .withColumn(\"longitude\", get_longitude(col(\"user_id\")))\\\n",
    "                   .groupBy(\"user_id\", window(\"created_at\", \"2 days\", \"1 days\"))\\\n",
    "                   .agg(sum(\"longitude\").alias(\"longitude_sum\"))\\\n",
    "                   .select(\"user_id\", \"longitude_sum\", \"window.end\")\\\n",
    "                   .withColumnRenamed(\"end\", \"created_at\")\n",
    "\n",
    "df.printSchema()"
   ]
  },
  {
   "cell_type": "code",
   "execution_count": 6,
   "id": "4a8e27ac",
   "metadata": {},
   "outputs": [
    {
     "name": "stdout",
     "output_type": "stream",
     "text": [
      "Feature Group created successfully, explore it at \n",
      "https://35.171.129.215/p/119/fs/67/fg/19\n",
      "<pyspark.sql.streaming.StreamingQuery object at 0x7f5d9c8bdd00>\n",
      "StatisticsWarning: Stream ingestion for feature group `user_transaction_longitude`, with version `1` will not compute statistics."
     ]
    }
   ],
   "source": [
    "user_transaction_longitude = fs.get_or_create_feature_group(\n",
    "    name=\"user_transaction_longitude\",\n",
    "    version=1,\n",
    "    description=\"User transaction longitude\",\n",
    "    primary_key=['user_id'],\n",
    "    event_time='created_at',\n",
    "    online_enabled=True,\n",
    "    stream=True\n",
    ")\n",
    "\n",
    "user_transaction_longitude.insert_stream(df, output_mode=\"update\")"
   ]
  },
  {
   "cell_type": "code",
   "execution_count": 7,
   "id": "1ed0398f",
   "metadata": {},
   "outputs": [
    {
     "name": "stdout",
     "output_type": "stream",
     "text": [
      "root\n",
      " |-- user_id: string (nullable = true)\n",
      " |-- longitude_sum: double (nullable = true)\n",
      " |-- gender: string (nullable = true)\n",
      " |-- created_at: timestamp (nullable = true)"
     ]
    }
   ],
   "source": [
    "@udf(returnType=StringType())\n",
    "def get_gender(user_id):\n",
    "    api_url = \"https://randomuser.me/api/\"\n",
    "    response = requests.get(api_url)\n",
    "    gender = response.json()['results'][0]['gender']\n",
    "    if gender == 'male':\n",
    "        return 'M'\n",
    "    return 'F'\n",
    "\n",
    "\n",
    "df = df.withColumn(\"gender\", get_gender(col(\"user_id\")))\\\n",
    "       .select(\"user_id\", \"longitude_sum\", \"gender\", \"created_at\")\n",
    "\n",
    "df.printSchema()"
   ]
  },
  {
   "cell_type": "code",
   "execution_count": 8,
   "id": "863a933a",
   "metadata": {},
   "outputs": [
    {
     "name": "stdout",
     "output_type": "stream",
     "text": [
      "Feature Group created successfully, explore it at \n",
      "https://35.171.129.215/p/119/fs/67/fg/20\n",
      "<pyspark.sql.streaming.StreamingQuery object at 0x7f5d9c8d5520>\n",
      "StatisticsWarning: Stream ingestion for feature group `user_transaction_gender`, with version `1` will not compute statistics."
     ]
    }
   ],
   "source": [
    "user_transaction_gender = fs.get_or_create_feature_group(\n",
    "    name=\"user_transaction_gender\",\n",
    "    version=1,\n",
    "    description=\"User transaction gender\",\n",
    "    primary_key=['user_id'],\n",
    "    event_time='created_at',\n",
    "    online_enabled=True,\n",
    "    stream=True\n",
    ")\n",
    "\n",
    "user_transaction_gender.insert_stream(df, output_mode=\"update\")"
   ]
  },
  {
   "cell_type": "code",
   "execution_count": 9,
   "id": "ac13267e",
   "metadata": {},
   "outputs": [],
   "source": [
    "# spark.streams.get(spark.streams.active[0].id).stop()"
   ]
  }
 ],
 "metadata": {
  "kernelspec": {
   "display_name": "PySpark",
   "language": "python",
   "name": "pysparkkernel"
  },
  "language_info": {
   "codemirror_mode": {
    "name": "python",
    "version": 3
   },
   "mimetype": "text/x-python",
   "name": "pyspark",
   "pygments_lexer": "python3"
  }
 },
 "nbformat": 4,
 "nbformat_minor": 5
}