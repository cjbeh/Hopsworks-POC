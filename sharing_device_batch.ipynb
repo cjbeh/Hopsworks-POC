{
 "cells": [
  {
   "cell_type": "code",
   "execution_count": null,
   "metadata": {},
   "outputs": [],
   "source": [
    "import hopsworks\n",
    "\n",
    "project = hopsworks.login()\n",
    "\n",
    "fs = project.get_feature_store()"
   ]
  },
  {
   "cell_type": "code",
   "execution_count": null,
   "metadata": {},
   "outputs": [],
   "source": [
    "from datetime import datetime, timedelta\n",
    "import pandas as pd"
   ]
  },
  {
   "cell_type": "code",
   "execution_count": null,
   "metadata": {},
   "outputs": [],
   "source": [
    "user_transaction = fs.get_feature_group(\n",
    "    name=\"user_transaction_raw\",\n",
    "    version=1\n",
    ")"
   ]
  },
  {
   "cell_type": "code",
   "execution_count": null,
   "metadata": {},
   "outputs": [],
   "source": [
    "df = user_transaction.read(online=True)"
   ]
  },
  {
   "cell_type": "code",
   "execution_count": null,
   "metadata": {},
   "outputs": [],
   "source": [
    "current_datetime = datetime.now()\n",
    "one_day_ago = datetime.now() - timedelta(days=1)\n",
    "\n",
    "df = df.drop(['unique_id'], axis=1)[df['created_at'] >= one_day_ago].reset_index()\n",
    "\n",
    "device_df = df.groupby('device_id')['user_id'].nunique().reset_index().rename(columns={'user_id': 'count'})\n",
    "\n",
    "final_df = pd.merge(df, device_df, on='device_id').groupby('user_id').agg({'count': 'max'}).reset_index().rename(columns={'count': 'num_users_share_device_id'})\n",
    "\n",
    "final_df['created_at'] = current_datetime\n",
    "\n",
    "final_df.head()"
   ]
  },
  {
   "cell_type": "code",
   "execution_count": null,
   "metadata": {},
   "outputs": [],
   "source": [
    "num_users_share_device_id = fs.get_or_create_feature_group(\n",
    "    name=\"num_users_share_device_id\",\n",
    "    version=1,\n",
    "    description=\"Number of users sharing a device id\",\n",
    "    primary_key=['user_id'],\n",
    "    event_time='created_at',\n",
    "    online_enabled=True,\n",
    "    stream=True\n",
    ")\n",
    "\n",
    "num_users_share_device_id.insert(final_df)"
   ]
  }
 ],
 "metadata": {
  "kernelspec": {
   "display_name": "PySpark",
   "language": "python",
   "name": "pysparkkernel"
  },
  "language_info": {
   "codemirror_mode": {
    "name": "python",
    "version": 3
   },
   "mimetype": "text/x-python",
   "name": "pyspark",
   "pygments_lexer": "python3"
  }
 },
 "nbformat": 4,
 "nbformat_minor": 4
}